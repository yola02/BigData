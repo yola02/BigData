{
  "nbformat": 4,
  "nbformat_minor": 0,
  "metadata": {
    "colab": {
      "provenance": [],
      "include_colab_link": true
    },
    "kernelspec": {
      "name": "python3",
      "display_name": "Python 3"
    },
    "language_info": {
      "name": "python"
    }
  },
  "cells": [
    {
      "cell_type": "markdown",
      "metadata": {
        "id": "view-in-github",
        "colab_type": "text"
      },
      "source": [
        "<a href=\"https://colab.research.google.com/github/yola02/BigData/blob/main/ColabSparkRiemann.ipynb\" target=\"_parent\"><img src=\"https://colab.research.google.com/assets/colab-badge.svg\" alt=\"Open In Colab\"/></a>"
      ]
    },
    {
      "cell_type": "code",
      "source": [
        "from pyspark.sql import SparkSession\n",
        "spark = SparkSession.builder.master(\"local[*]\").getOrCreate()"
      ],
      "metadata": {
        "id": "HDSDEhNcApW2"
      },
      "execution_count": null,
      "outputs": []
    },
    {
      "cell_type": "code",
      "execution_count": null,
      "metadata": {
        "colab": {
          "base_uri": "https://localhost:8080/"
        },
        "id": "UIHmrwLGAhIb",
        "outputId": "89b20cfb-bf35-4599-98ff-48f4cd83c0e0"
      },
      "outputs": [
        {
          "output_type": "stream",
          "name": "stdout",
          "text": [
            "+---+-----+\n",
            "| id| name|\n",
            "+---+-----+\n",
            "|  1|Alice|\n",
            "|  2|  Bob|\n",
            "+---+-----+\n",
            "\n"
          ]
        }
      ],
      "source": [
        "df = spark.createDataFrame([(1, \"Alice\"), (2, \"Bob\")], [\"id\", \"name\"])\n",
        "df.show()"
      ]
    },
    {
      "cell_type": "code",
      "source": [
        "df.createOrReplaceTempView(\"dummy_table\")\n",
        "\n",
        "# Use Spark SQL to select the name where id = 1\n",
        "result = spark.sql(\"\"\"\n",
        "    SELECT name\n",
        "    FROM dummy_table\n",
        "    WHERE id = 1\n",
        "\"\"\")\n",
        "\n",
        "result.show()"
      ],
      "metadata": {
        "colab": {
          "base_uri": "https://localhost:8080/"
        },
        "id": "gfVKlfxZBM2D",
        "outputId": "3bc02faf-ddfb-41c8-d402-6501e8a8ad1e"
      },
      "execution_count": null,
      "outputs": [
        {
          "output_type": "stream",
          "name": "stdout",
          "text": [
            "+-----+\n",
            "| name|\n",
            "+-----+\n",
            "|Alice|\n",
            "+-----+\n",
            "\n"
          ]
        }
      ]
    },
    {
      "cell_type": "markdown",
      "source": [
        "TRY Parallel"
      ],
      "metadata": {
        "id": "T99YPOl3wgHK"
      }
    },
    {
      "cell_type": "code",
      "source": [
        "from pyspark.sql import SparkSession\n",
        "\n",
        "# Initialize Spark session\n",
        "spark = SparkSession.builder.appName(\"IntegralApproximation\").getOrCreate()\n",
        "sc = spark.sparkContext\n",
        "\n",
        "# Function and interval\n",
        "a = 0  # Lower limit\n",
        "b = 4  # Upper limit\n",
        "n = 100000  # Number of intervals (higher = more accurate)\n",
        "\n",
        "dx = (b - a) / n  # Step size\n",
        "\n",
        "# Create RDD with n values from 0 to n-1\n",
        "rdd = sc.parallelize(range(n), 50)\n",
        "\n",
        "# Use midpoint Riemann sum: x_i = a + (i + 0.5) * dx\n",
        "def f(x):\n",
        "    return x ** 2\n",
        "\n",
        "area = rdd.map(lambda i: f(a + (i + 0.5) * dx) * dx).sum()\n",
        "\n",
        "print(f\"Estimated integral of x^2 from {a} to {b} is: {area:.5f}\")\n",
        "\n",
        "spark.stop()\n"
      ],
      "metadata": {
        "colab": {
          "base_uri": "https://localhost:8080/"
        },
        "id": "mRlaobMpwf0Z",
        "outputId": "e7292cf8-0744-42c6-d802-f1ebab78cfa4"
      },
      "execution_count": null,
      "outputs": [
        {
          "output_type": "stream",
          "name": "stdout",
          "text": [
            "Estimated integral of x^2 from 0 to 4 is: 21.33333\n"
          ]
        }
      ]
    }
  ]
}