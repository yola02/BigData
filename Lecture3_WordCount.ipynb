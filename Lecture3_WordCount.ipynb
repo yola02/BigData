{
  "nbformat": 4,
  "nbformat_minor": 0,
  "metadata": {
    "colab": {
      "provenance": [],
      "include_colab_link": true
    },
    "kernelspec": {
      "name": "python3",
      "display_name": "Python 3"
    },
    "language_info": {
      "name": "python"
    }
  },
  "cells": [
    {
      "cell_type": "markdown",
      "metadata": {
        "id": "view-in-github",
        "colab_type": "text"
      },
      "source": [
        "<a href=\"https://colab.research.google.com/github/yola02/BigData/blob/main/Lecture3_WordCount.ipynb\" target=\"_parent\"><img src=\"https://colab.research.google.com/assets/colab-badge.svg\" alt=\"Open In Colab\"/></a>"
      ]
    },
    {
      "cell_type": "code",
      "source": [
        "!wget https://raw.githubusercontent.com/hbisgin/BigDatav1/refs/heads/main/data/texttocount.txt"
      ],
      "metadata": {
        "colab": {
          "base_uri": "https://localhost:8080/"
        },
        "id": "jfb7XIUNc2ME",
        "outputId": "d599a6e7-091f-4ba3-eb66-e044d41f79cb"
      },
      "execution_count": 13,
      "outputs": [
        {
          "output_type": "stream",
          "name": "stdout",
          "text": [
            "--2025-09-06 23:54:04--  https://raw.githubusercontent.com/hbisgin/BigDatav1/refs/heads/main/data/texttocount.txt\n",
            "Resolving raw.githubusercontent.com (raw.githubusercontent.com)... 185.199.108.133, 185.199.109.133, 185.199.110.133, ...\n",
            "Connecting to raw.githubusercontent.com (raw.githubusercontent.com)|185.199.108.133|:443... connected.\n",
            "HTTP request sent, awaiting response... 200 OK\n",
            "Length: 613 [text/plain]\n",
            "Saving to: ‘texttocount.txt’\n",
            "\n",
            "\rtexttocount.txt       0%[                    ]       0  --.-KB/s               \rtexttocount.txt     100%[===================>]     613  --.-KB/s    in 0s      \n",
            "\n",
            "2025-09-06 23:54:04 (41.5 MB/s) - ‘texttocount.txt’ saved [613/613]\n",
            "\n"
          ]
        }
      ]
    },
    {
      "cell_type": "code",
      "source": [
        "!head texttocount.txt"
      ],
      "metadata": {
        "colab": {
          "base_uri": "https://localhost:8080/"
        },
        "id": "w0VzcCYXc5bm",
        "outputId": "45baa573-762c-4288-c67f-837808b93b1f"
      },
      "execution_count": 14,
      "outputs": [
        {
          "output_type": "stream",
          "name": "stdout",
          "text": [
            "It was the best of times,\n",
            "it was the worst of times,\n",
            "it was the age of wisdom,\n",
            "it was the age of foolishness,\n",
            "it was the epoch of belief,\n",
            "it was the epoch of incredulity,\n",
            "it was the season of Light,\n",
            "it was the season of Darkness,\n",
            "it was the spring of hope,\n",
            "it was the winter of despair,\n"
          ]
        }
      ]
    },
    {
      "cell_type": "code",
      "source": [
        "#from pyspark import SparkContext #just for your reference\n",
        "#sc = SparkContext(\"local\", \"WordCountApp\")\n",
        "\n",
        "from pyspark.sql import SparkSession\n",
        "\n",
        "spark = SparkSession.builder \\\n",
        "    .appName(\"MyApp\") \\\n",
        "    .getOrCreate()\n",
        "\n",
        "sc = spark.sparkContext"
      ],
      "metadata": {
        "id": "pQRiVTpX4iQT"
      },
      "execution_count": 15,
      "outputs": []
    },
    {
      "cell_type": "code",
      "execution_count": 17,
      "metadata": {
        "id": "McvWQHj04a9D"
      },
      "outputs": [],
      "source": [
        "\n",
        "text_file = sc.textFile(\"/content/texttocount.txt\")\n",
        "\n",
        "counts = (text_file.flatMap(lambda line: line.split()).map(lambda word: (word, 1)).reduceByKey(lambda a, b: a + b))\n",
        "\n"
      ]
    },
    {
      "cell_type": "code",
      "source": [
        "for word, count in counts.collect():\n",
        "  print(f\"{word}: {count}\")"
      ],
      "metadata": {
        "id": "sJ5UKKJ_6dF0",
        "colab": {
          "base_uri": "https://localhost:8080/"
        },
        "outputId": "76fbacc9-b3b8-48c4-f77b-eb32ffa75e10"
      },
      "execution_count": 18,
      "outputs": [
        {
          "output_type": "stream",
          "name": "stdout",
          "text": [
            "It: 1\n",
            "best: 1\n",
            "of: 12\n",
            "times,: 2\n",
            "it: 9\n",
            "belief,: 1\n",
            "incredulity,: 1\n",
            "season: 2\n",
            "spring: 1\n",
            "despair,: 1\n",
            "everything: 1\n",
            "before: 2\n",
            "us,: 2\n",
            "nothing: 1\n",
            "were: 2\n",
            "going: 2\n",
            "to: 1\n",
            "Heaven,: 1\n",
            "other: 1\n",
            "way--: 1\n",
            "short,: 1\n",
            "so: 1\n",
            "far: 1\n",
            "like: 1\n",
            "present: 1\n",
            "noisiest: 1\n",
            "being: 1\n",
            "for: 2\n",
            "good: 1\n",
            "superlative: 1\n",
            "degree: 1\n",
            "comparison: 1\n",
            "only.: 1\n",
            "was: 11\n",
            "the: 14\n",
            "worst: 1\n",
            "age: 2\n",
            "wisdom,: 1\n",
            "foolishness,: 1\n",
            "epoch: 2\n",
            "Light,: 1\n",
            "Darkness,: 1\n",
            "hope,: 1\n",
            "winter: 1\n",
            "we: 4\n",
            "had: 2\n",
            "all: 2\n",
            "direct: 2\n",
            "in: 2\n",
            "period: 1\n",
            "period,: 1\n",
            "that: 1\n",
            "some: 1\n",
            "its: 2\n",
            "authorities: 1\n",
            "insisted: 1\n",
            "on: 1\n",
            "received,: 1\n",
            "or: 1\n",
            "evil,: 1\n"
          ]
        }
      ]
    }
  ]
}